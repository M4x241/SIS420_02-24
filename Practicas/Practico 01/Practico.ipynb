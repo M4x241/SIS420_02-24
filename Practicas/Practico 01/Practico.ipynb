{
 "cells": [
  {
   "cell_type": "markdown",
   "metadata": {},
   "source": [
    "Importamos las librerias necesarias para ejecutar nuestro codigo, se esta usando python 3.12 como se especifico"
   ]
  },
  {
   "cell_type": "code",
   "execution_count": 1,
   "metadata": {},
   "outputs": [],
   "source": [
    "import random\n",
    "import pandas as pd\n",
    "import numpy as np\n",
    "from matplotlib import pyplot as plt"
   ]
  },
  {
   "cell_type": "markdown",
   "metadata": {},
   "source": [
    "Creamos la funcion para generar nuestros datos aleatorios de altura y peso, pero teniendo en cuenta de que sean optimos para los datos, controlando el peso de los individuos usando el rango de IMC normal, que seria de 18.5 a 24.9.\n",
    "Esta funcion nos devuelve un diccionario con la clave, siendo la altura, y el valor siendo el peso, para ordenarlos posteriormente\n",
    "Recibe como parametro una lista, que calcula el prom de pesos de toda la informacion, y como es una lista, se esta pasando por referencia"
   ]
  },
  {
   "cell_type": "code",
   "execution_count": 2,
   "metadata": {},
   "outputs": [],
   "source": [
    "def GenerarDatos(prompesos):\n",
    "    datos: dict[float:float]\n",
    "    datos = {}\n",
    "    altura : float\n",
    "    peso : float\n",
    "    random.seed(5)\n",
    "    for i in range(100):\n",
    "        altura = random.randint(15000,20000)/100\n",
    "        peso = random.randint(185, 249)/10 *(altura/100)**2\n",
    "        prompesos[0] += peso\n",
    "        datos[altura] = peso\n",
    "    #print(datos)\n",
    "    return datos"
   ]
  },
  {
   "cell_type": "markdown",
   "metadata": {},
   "source": [
    "Creamos otra funcion para ordenar los pesos de acuerdo a las edades que se le pasaran de forma ascendente"
   ]
  },
  {
   "cell_type": "code",
   "execution_count": 3,
   "metadata": {},
   "outputs": [],
   "source": [
    "def ordenarDatos(diccionario:dict,listAlt):\n",
    "    listPes :list\n",
    "    listPes = []\n",
    "    for i in range(len(diccionario)):\n",
    "        listPes.append(diccionario[listAlt[i]])\n",
    "    return listPes"
   ]
  },
  {
   "cell_type": "markdown",
   "metadata": {},
   "source": [
    "Para tener el codigo un poco mas ordenado, estoy declarando las variables y que tipos de datos seran los que almacenaran cada uno"
   ]
  },
  {
   "cell_type": "code",
   "execution_count": 4,
   "metadata": {},
   "outputs": [],
   "source": [
    "#listas de datos\n",
    "list_alturas : list\n",
    "list_pesos :list\n",
    "list_alturas = []\n",
    "list_pesos = []\n",
    "resta: float\n",
    "sumErrores: float\n",
    "ErrorMin : float\n",
    "balance : list[int]\n",
    "listVariables :list[float]\n",
    "listVariables = [0,0]\n",
    "PromPesos: list\n",
    "PromPesos = [0]"
   ]
  },
  {
   "cell_type": "markdown",
   "metadata": {},
   "source": [
    "Ahora se procede a llamar a la primera funcion para obtener todos los datos aleatorios de prueba, y con el metodo sorted, sacamos las claves del que serian las alturas, de manera creciente y ordenada"
   ]
  },
  {
   "cell_type": "code",
   "execution_count": 5,
   "metadata": {},
   "outputs": [],
   "source": [
    "\n",
    "tabla = GenerarDatos(PromPesos)\n",
    "list_alturas = sorted(tabla)\n",
    "PromPesos[0] /= 100\n",
    "\n",
    "ErrorMin = 999999\n",
    "list_pesos = ordenarDatos(tabla,list_alturas)\n"
   ]
  },
  {
   "cell_type": "markdown",
   "metadata": {},
   "source": [
    "Para la prueba decidi comparar los datos graficando todo en excel primero, si lo ven necesario activar el siguiente codigo\n",
    "*Opcional"
   ]
  },
  {
   "cell_type": "code",
   "execution_count": null,
   "metadata": {},
   "outputs": [],
   "source": [
    "# archivo excel\n",
    "archivo = pd.DataFrame({'Alturas':list_alturas,'Pesos':list_pesos})\n",
    "archivo.to_excel(\"Datos_Altura_peso.xlsx\", index=False)"
   ]
  },
  {
   "cell_type": "markdown",
   "metadata": {},
   "source": [
    "Ahora creamos los ciclos dos ciclos for para encontrar los valores de la pendiente, de la siguiente ecuacion \n",
    "\n",
    "### peso = i + altura * j\n",
    "### y = b + mx\n",
    "\n",
    "Para eso calculo primero el promedio de las alturas usando la formual de  \n",
    "#### i+altura*j\n",
    "Y luego lo resto con el peso para encontrar la diferencia mas minimia que seria un error de rangos aceptable\n"
   ]
  },
  {
   "cell_type": "code",
   "execution_count": 8,
   "metadata": {},
   "outputs": [
    {
     "name": "stdout",
     "output_type": "stream",
     "text": [
      "Finaliza el ciclo\n"
     ]
    }
   ],
   "source": [
    "\n",
    "for i in range(-1000,1000):\n",
    "    for j in range(-1000,1000):\n",
    "        sumErrores = 0\n",
    "        for d in range(len(list_alturas)):\n",
    "            resta = (list_alturas[d]*j/100 +i/100)\n",
    "            sumErrores += resta\n",
    "        sumErrores = abs(PromPesos[0]- sumErrores/100)\n",
    "        if ErrorMin > sumErrores:\n",
    "            ErrorMin = sumErrores\n",
    "            listVariables = [i/100,j/100]\n",
    "print(\"Finaliza el ciclo\")"
   ]
  },
  {
   "cell_type": "markdown",
   "metadata": {},
   "source": [
    "Ahora finalmente mostramos la grafica de la pendiente y los puntos de dispersion\n"
   ]
  },
  {
   "cell_type": "code",
   "execution_count": 17,
   "metadata": {},
   "outputs": [
    {
     "name": "stdout",
     "output_type": "stream",
     "text": [
      "[-9.91, 0.44]\n"
     ]
    },
    {
     "data": {
      "text/plain": [
       "[<matplotlib.lines.Line2D at 0x769829bc2300>]"
      ]
     },
     "execution_count": 17,
     "metadata": {},
     "output_type": "execute_result"
    },
    {
     "data": {
      "image/png": "[encoded data removed]",
      "text/plain": [
       "<Figure size 640x480 with 1 Axes>"
      ]
     },
     "metadata": {},
     "output_type": "display_data"
    }
   ],
   "source": [
    "\n",
    "plt.scatter(list_alturas, list_pesos)  \n",
    "print(listVariables)\n",
    "m = listVariables[1]\n",
    "b = listVariables[0]\n",
    "\n",
    "x = np.linspace(150, 210, 100)\n",
    "y = m * x + b\n",
    "plt.plot(x, y, label=f'y = {m}x + {b}')"
   ]
  }
 ],
 "metadata": {
  "kernelspec": {
   "display_name": "base",
   "language": "python",
   "name": "python3"
  },
  "language_info": {
   "codemirror_mode": {
    "name": "ipython",
    "version": 3
   },
   "file_extension": ".py",
   "mimetype": "text/x-python",
   "name": "python",
   "nbconvert_exporter": "python",
   "pygments_lexer": "ipython3",
   "version": "3.12.4"
  }
 },
 "nbformat": 4,
 "nbformat_minor": 2
}
